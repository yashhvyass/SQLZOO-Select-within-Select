{
  "nbformat": 4,
  "nbformat_minor": 0,
  "metadata": {
    "colab": {
      "name": "Select within Select.ipynb",
      "provenance": [],
      "authorship_tag": "ABX9TyMOTcnBCJx15JtdKq2chaDX",
      "include_colab_link": true
    },
    "kernelspec": {
      "name": "python3",
      "display_name": "Python 3"
    }
  },
  "cells": [
    {
      "cell_type": "markdown",
      "metadata": {
        "id": "view-in-github",
        "colab_type": "text"
      },
      "source": [
        "<a href=\"https://colab.research.google.com/github/yashvyas1405/SQLZOO-Select-within-Select/blob/main/Select_within_Select.ipynb\" target=\"_parent\"><img src=\"https://colab.research.google.com/assets/colab-badge.svg\" alt=\"Open In Colab\"/></a>"
      ]
    },
    {
      "cell_type": "markdown",
      "metadata": {
        "id": "Vy8msTpko8l5"
      },
      "source": [
        "# SQLZOO"
      ]
    },
    {
      "cell_type": "markdown",
      "metadata": {
        "id": "RJecKUSqT9lS"
      },
      "source": [
        "**1.First of all, you can put a nested SELECT within the WHERE clause with comparison operators or the IN, NOT IN, ANY, or ALL operators.**\r\n",
        "\r\n",
        "\r\n",
        "**2.Furthermore, subqueries are not limited to use in the WHERE clause. For example, you can also use a nested query in the FROM clause. In the next example, our subquery will return, not a single value, but a table.**\r\n",
        "\r\n",
        "**3.You can include a subquery:\r\n",
        "In the WHERE clause, to filter data.\r\n",
        "In the FROM clause, to specify a new table.\r\n",
        "In the SELECT clause, to specify a certain column.\r\n",
        "In the HAVING clause, as a group selector.**\r\n",
        "\r\n",
        "**4.Subqueries are often computationally inefficient. Thus, I recommend avoiding nested queries when other options are available (e.g. JOINs).**"
      ]
    },
    {
      "cell_type": "markdown",
      "metadata": {
        "id": "YL5wlzAZRExn"
      },
      "source": [
        "List each country name where the population is larger than that of 'Russia'.\r\n",
        "\r\n"
      ]
    },
    {
      "cell_type": "code",
      "metadata": {
        "id": "Fo1RYT5GQSZ_"
      },
      "source": [
        "SELECT name FROM world\r\n",
        "WHERE population >\r\n",
        "(SELECT population FROM world\r\n",
        "WHERE name='Russia')"
      ],
      "execution_count": null,
      "outputs": []
    },
    {
      "cell_type": "markdown",
      "metadata": {
        "id": "FotioK6fBY_R"
      },
      "source": [
        "Show the countries in Europe with a per capita GDP greater than 'United Kingdom'."
      ]
    },
    {
      "cell_type": "code",
      "metadata": {
        "id": "pi4ZBlCkBbAJ"
      },
      "source": [
        "select name\r\n",
        "from world\r\n",
        "where continent = 'Europe' and gdp/population > \r\n",
        "      (select gdp/population\r\n",
        "       from world\r\n",
        "       where name = 'United Kingdom')"
      ],
      "execution_count": null,
      "outputs": []
    },
    {
      "cell_type": "markdown",
      "metadata": {
        "id": "wIyUS1XsBe6Y"
      },
      "source": [
        "List the name and continent of countries in the continents containing either Argentina or Australia. Order by name of the country.\r\n",
        "\r\n"
      ]
    },
    {
      "cell_type": "code",
      "metadata": {
        "id": "1U81KV9zBhAQ"
      },
      "source": [
        "select name, continent\r\n",
        "from world\r\n",
        "where continent in (select continent\r\n",
        "                    from world\r\n",
        "                    where name in ('Argentina', 'Australia'))\r\n",
        "order by name"
      ],
      "execution_count": null,
      "outputs": []
    },
    {
      "cell_type": "markdown",
      "metadata": {
        "id": "5roqtlltBk-s"
      },
      "source": [
        "Which country has a population that is more than Canada but less than Poland? Show the name and the population.\r\n",
        "\r\n"
      ]
    },
    {
      "cell_type": "code",
      "metadata": {
        "id": "Ilel7Nf7CCqz"
      },
      "source": [
        "select name, population\r\n",
        "from world\r\n",
        "where population > (select name\r\n",
        "                    from world\r\n",
        "                    where name = 'Canada')\r\n",
        "and population < (select name\r\n",
        "                  from world\r\n",
        "                  where name = 'Poland')"
      ],
      "execution_count": null,
      "outputs": []
    },
    {
      "cell_type": "markdown",
      "metadata": {
        "id": "QqSlqMTQCGJT"
      },
      "source": [
        "Show the name and the population of each country in Europe. Show the population as a percentage of the population of Germany.\r\n",
        "\r\n"
      ]
    },
    {
      "cell_type": "code",
      "metadata": {
        "id": "EOTuePs6NL45"
      },
      "source": [
        "select name, concat(round(population/(select population from world where name = 'Germany')*100, 0), '%') as percentage\r\n",
        "from world\r\n",
        "where continent = 'Europe' #it is not mandatory to apply select only in where. Here we were required to do population of countries/ population of Germany.\r\n",
        "                           #Therefore we applied it then and there only.  "
      ],
      "execution_count": null,
      "outputs": []
    },
    {
      "cell_type": "markdown",
      "metadata": {
        "id": "qe3yBUScNlOh"
      },
      "source": [
        "Which countries have a GDP greater than **every country (ie; ALL)** in Europe? [Give the name only.] (Some countries may have NULL gdp values)"
      ]
    },
    {
      "cell_type": "code",
      "metadata": {
        "id": "viDLKFb2X0Pr"
      },
      "source": [
        "select name\r\n",
        "from world\r\n",
        "where gdp > all(select gdp\r\n",
        "from world\r\n",
        "where continent = 'Europe' and gdp > 0) # Here gdp may be null. Therfore we use gdp>0."
      ],
      "execution_count": null,
      "outputs": []
    },
    {
      "cell_type": "markdown",
      "metadata": {
        "id": "4tOXoxerX3Xu"
      },
      "source": [
        "Find the largest country (by area) in each continent, show the continent, the name and the area:\r\n"
      ]
    },
    {
      "cell_type": "code",
      "metadata": {
        "id": "C6ruiVaqY7hm"
      },
      "source": [
        "##Correlated Subqueries\r\n",
        "SELECT continent, name, area FROM world x\r\n",
        "WHERE area >= ALL\r\n",
        "(SELECT area FROM world y\r\n",
        "WHERE y.continent=x.continent\r\n",
        "AND area>0) #We can refer to values in the outer SELECT within the inner SELECT. We can name the tables so that we can tell the difference between the inner\r\n",
        "            #and outer versions.\r\n",
        "\r\n",
        "##select the country details from world where the population is greater than or equal to the population of all countries **where the continent is the same**”.\r\n",
        "\r\n"
      ],
      "execution_count": null,
      "outputs": []
    },
    {
      "cell_type": "markdown",
      "metadata": {
        "id": "Wx1HcyK8aYFk"
      },
      "source": [
        "List each continent and the name of the country that comes first alphabetically."
      ]
    },
    {
      "cell_type": "code",
      "metadata": {
        "id": "fS3pyKL-lRdN"
      },
      "source": [
        "select continent, name\r\n",
        "from world x\r\n",
        "where name <= all(select name from world y\r\n",
        "where x.continent = y.continent)"
      ],
      "execution_count": null,
      "outputs": []
    },
    {
      "cell_type": "markdown",
      "metadata": {
        "id": "hlSxNe2ClVkz"
      },
      "source": [
        "Find the continents where all countries have a population <= 25000000. Then find the names of the countries associated with these continents. Show name, continent and population."
      ]
    },
    {
      "cell_type": "code",
      "metadata": {
        "id": "Gsc-ZWzblX3i"
      },
      "source": [
        "select name, continent, population\r\n",
        "from world x\r\n",
        "where 25000000 >= all(select population from world y \r\n",
        "where x.continent = y.continent)"
      ],
      "execution_count": null,
      "outputs": []
    },
    {
      "cell_type": "markdown",
      "metadata": {
        "id": "EEskFiBynHOS"
      },
      "source": [
        "Some countries have populations more than three times that of any of their neighbours (in the same continent). Give the countries and continents."
      ]
    },
    {
      "cell_type": "code",
      "metadata": {
        "id": "5P3iG6K5nJAU"
      },
      "source": [
        "select name, continent\r\n",
        "from world x\r\n",
        "where population > all(select 3*(population) from world y\r\n",
        "where x.continent = y.continent and y.name!=x.name)         # same name should not repeat"
      ],
      "execution_count": null,
      "outputs": []
    }
  ]
}